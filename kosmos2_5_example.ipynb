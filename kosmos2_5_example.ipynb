{
  "cells": [
    {
      "cell_type": "markdown",
      "metadata": {},
      "source": [
        "# [![Open In Colab](https://colab.research.google.com/assets/colab-badge.svg)](https://colab.research.google.com/github/harpreetsahota204/kosmos2_5/blob/main/kosmos2_5_example.ipynb)\n",
        "\n",
        "# Kosmos-2.5 for FiftyOne: Complete Example\n",
        "\n",
        "This notebook demonstrates how to use Microsoft's Kosmos-2.5 model with FiftyOne for document understanding and OCR tasks.\n",
        "\n",
        "## What you'll learn:\n",
        "1. How to set up and register the Kosmos-2.5 model\n",
        "2. Processing PDFs with OCR and markdown extraction\n",
        "3. Working with text detection datasets\n",
        "4. Visualizing results in FiftyOne\n",
        "5. Comparing OCR and markdown outputs\n"
      ]
    },
    {
      "cell_type": "markdown",
      "metadata": {},
      "source": [
        "## 1. Installation and Setup\n",
        "\n",
        "First, let's install the required packages and set up our environment.\n"
      ]
    },
    {
      "cell_type": "code",
      "execution_count": null,
      "metadata": {},
      "outputs": [],
      "source": [
        "# Install required packages\n",
        "%pip install -q fiftyone\n",
        "%pip install -q transformers torch torchvision\n",
        "%pip install -q huggingface-hub\n",
        "\n",
        "# For PDF processing\n",
        "!apt-get install -y poppler-utils > /dev/null 2>&1\n",
        "%pip install -q pdf2image\n"
      ]
    },
    {
      "cell_type": "code",
      "execution_count": null,
      "metadata": {},
      "outputs": [],
      "source": [
        "import fiftyone as fo\n",
        "import fiftyone.zoo as foz\n",
        "import fiftyone.operators as foo\n",
        "import fiftyone.utils.huggingface as fouh\n",
        "import torch\n",
        "import requests\n",
        "import os\n",
        "from PIL import Image"
      ]
    },
    {
      "cell_type": "markdown",
      "metadata": {},
      "source": [
        "## 2. Register and Load Kosmos-2.5 Model\n",
        "\n",
        "Now let's register the Kosmos-2.5 model source and load the model. The first load will download the model weights (~3.5GB).\n"
      ]
    },
    {
      "cell_type": "code",
      "execution_count": null,
      "metadata": {},
      "outputs": [],
      "source": [
        "# Register the Kosmos-2.5 model source\n",
        "foz.register_zoo_model_source(\n",
        "    \"https://github.com/harpreetsahota204/kosmos2_5\", \n",
        "    overwrite=True\n",
        ")\n",
        "\n",
        "print(\"Model source registered successfully!\")\n"
      ]
    },
    {
      "cell_type": "code",
      "execution_count": null,
      "metadata": {},
      "outputs": [],
      "source": [
        "# Load the model (this will download on first run)\n",
        "print(\"Loading Kosmos-2.5 model...\")\n",
        "model = foz.load_zoo_model(\"microsoft/kosmos-2.5\")\n",
        "print(f\"Model loaded successfully!\")\n",
        "print(f\"Available operations: ocr, md\")\n"
      ]
    },
    {
      "cell_type": "markdown",
      "metadata": {},
      "source": [
        "## 3. Example 1: Processing a Research Paper PDF\n",
        "\n",
        "Let's download a research paper and process it with both OCR and markdown extraction modes.\n"
      ]
    },
    {
      "cell_type": "code",
      "execution_count": null,
      "metadata": {},
      "outputs": [],
      "source": [
        "# Download the PDF loader plugin\n",
        "!fiftyone plugins download https://github.com/brimoor/pdf-loader"
      ]
    },
    {
      "cell_type": "code",
      "execution_count": null,
      "metadata": {},
      "outputs": [],
      "source": [
        "# Download a sample research paper (Kosmos-2.5 paper itself!)\n",
        "url = \"https://arxiv.org/pdf/2309.11419\"\n",
        "filename = \"kosmos25_paper.pdf\"\n",
        "\n",
        "response = requests.get(url)\n",
        "if response.status_code == 200:\n",
        "    with open(filename, 'wb') as f:\n",
        "        f.write(response.content)\n",
        "    print(f\"✅ Downloaded {filename}\")\n",
        "else:\n",
        "    print(f\"❌ Failed to download. Status code: {response.status_code}\")\n"
      ]
    },
    {
      "cell_type": "code",
      "execution_count": null,
      "metadata": {},
      "outputs": [],
      "source": [
        "# Create a dataset and load the PDF as images\n",
        "pdf_dataset = fo.Dataset(\"kosmos25_paper_demo\")\n",
        "\n",
        "# Load PDF pages as images\n",
        "pdf_loader = foo.get_operator(\"@brimoor/pdf-loader/pdf_loader\")\n",
        "\n",
        "pdf_loader(\n",
        "    pdf_dataset,\n",
        "    input_path=\"./kosmos25_paper.pdf\",\n",
        "    output_dir=\"./pdf_images\",\n",
        "    dpi=200,  # Higher DPI for better OCR quality\n",
        "    fmt=\"png\",\n",
        "    tags=[\"research_paper\", \"kosmos25\"]\n",
        ")\n",
        "\n",
        "\n",
        "pdf_dataset.first()\n"
      ]
    },
    {
      "cell_type": "code",
      "execution_count": null,
      "metadata": {},
      "outputs": [],
      "source": [
        "# Apply OCR mode to detect text with bounding boxes\n",
        "print(\"🔍 Running OCR detection...\")\n",
        "model.operation = \"ocr\"\n",
        "pdf_dataset.apply_model(model, label_field=\"text_detections\")\n",
        "print(\"✅ OCR detection complete!\")\n"
      ]
    },
    {
      "cell_type": "code",
      "execution_count": null,
      "metadata": {},
      "outputs": [],
      "source": [
        "# Apply markdown mode to extract structured text\n",
        "print(\"📝 Extracting markdown text...\")\n",
        "model.operation = \"md\"\n",
        "pdf_dataset.apply_model(model, label_field=\"text_extraction\")\n",
        "print(\"✅ Markdown extraction complete!\")\n"
      ]
    },
    {
      "cell_type": "code",
      "execution_count": null,
      "metadata": {},
      "outputs": [],
      "source": [
        "# Display extracted markdown from the first page\n",
        "first_sample = pdf_dataset.first()\n",
        "if first_sample.text_extraction:\n",
        "    print(\"📄 Markdown from first page:\")\n",
        "    print(\"-\" * 50)\n",
        "    print(first_sample.text_extraction[:1000] + \"...\" if len(first_sample.text_extraction) > 1000 else first_sample.text_extraction)\n"
      ]
    },
    {
      "cell_type": "code",
      "execution_count": null,
      "metadata": {},
      "outputs": [],
      "source": [
        "# Visualize the results\n",
        "session = fo.launch_app(pdf_dataset)\n"
      ]
    },
    {
      "cell_type": "markdown",
      "metadata": {},
      "source": [
        "## 4. Example 2: Working with Text Detection Datasets\n",
        "\n",
        "Now let's work with a text detection dataset from Hugging Face Hub.\n"
      ]
    },
    {
      "cell_type": "code",
      "execution_count": null,
      "metadata": {},
      "outputs": [],
      "source": [
        "# Load a text detection dataset from Hugging Face\n",
        "print(\"📦 Loading Total-Text dataset from Hugging Face...\")\n",
        "text_dataset = fouh.load_from_hub(\n",
        "    \"Voxel51/Total-Text-Dataset\", \n",
        "    max_samples=10  # Load only 10 samples for demo\n",
        ")\n"
      ]
    },
    {
      "cell_type": "code",
      "execution_count": null,
      "metadata": {},
      "outputs": [],
      "source": [
        "# Apply OCR detection\n",
        "print(\"🔍 Running OCR on text dataset...\")\n",
        "model.operation = \"ocr\"\n",
        "text_dataset.apply_model(model, label_field=\"kosmos_detections\")\n",
        "print(\"✅ OCR complete!\")\n"
      ]
    },
    {
      "cell_type": "code",
      "execution_count": null,
      "metadata": {},
      "outputs": [],
      "source": [
        "# Also extract markdown text\n",
        "print(\"📝 Extracting markdown text...\")\n",
        "model.operation = \"md\"\n",
        "text_dataset.apply_model(model, label_field=\"markdown_text\")\n",
        "print(\"✅ Markdown extraction complete!\")\n"
      ]
    },
    {
      "cell_type": "code",
      "execution_count": null,
      "metadata": {},
      "outputs": [],
      "source": [
        "# Launch app to visualize and compare results\n",
        "session = fo.launch_app(text_dataset)\n"
      ]
    }
  ],
  "metadata": {
    "language_info": {
      "name": "python"
    }
  },
  "nbformat": 4,
  "nbformat_minor": 2
}
